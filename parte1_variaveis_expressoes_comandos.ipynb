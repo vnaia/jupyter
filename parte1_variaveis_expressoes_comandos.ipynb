{
 "cells": [
  {
   "cell_type": "markdown",
   "metadata": {
    "tags": []
   },
   "source": [
    "<center><h1 style=\"font-size:2em;color:#2467C0\">Parte 1 - Variáveis, Expressões e Comandos</h1></center>"
   ]
  },
  {
   "cell_type": "markdown",
   "metadata": {},
   "source": [
    "---\n",
    "## Variáveis"
   ]
  },
  {
   "cell_type": "markdown",
   "metadata": {},
   "source": [
    "- Uma variável é um local da memória do computador onde o programador vai poder armazenar dados e mais tarde poder apanhar esses dados através do nome de uma variável.\n",
    "- As variáveis recebem o dado a armazenar através do sinal de igual. A isso chama-se uma Instrução de Atribuição.\n",
    "<p style=\"font-size:1.1em;color:#f00\">\n",
    "    x = 12.2 <span style=\"font-size:1.1em;color:#000\">=> Atribui à variável x o valor 12.2</span><br>\n",
    "y = 14 <span style=\"font-size:1.1em;color:#000\">=> Atribui à variável y o valor 14</span>\n",
    "</p>\n",
    "- Os conteúdos das variáveis podem mudar ao longo do programa!\n",
    "<p style=\"font-size:1.1em;color:#f00\">\n",
    "x = 100 <span style=\"font-size:1.1em;color:#000\">=> tribui à variável x o valor de 100 removendo o 12.2</span><br>\n",
    "y = y + 5 <span style=\"font-size:1.1em;color:#000\">=> Atribui à variável y o valor de 19. Resultado de 14 + 5</span><br>\n",
    "</p>\n",
    "- O programador pode escolher os nomes que quer dar às variáveis.\n",
    "- Os nomes das variáveis têm as seguintes regras:\n",
    "<ol>\n",
    "<li>Só podem começar por uma letra ou underscore _ <span style=\"font-size:1.1em;color:#f00\">{a,A,_a,_A,….}</span></li>\n",
    "    <li>Podem ter letras, números e underscores <span style=\"font-size:1.1em;color:#f00\">{a,b,c,..z,A,B,C,...Z,0,1,2,...,9,_}</span></li>\n",
    "    <li>Não podem ter qualquer outro símbolo <span style=\"font-size:1.1em;color:#f00\">{!,?,+,*,….}</span></li>\n",
    "    <li>São Case Sensitive, isto é, diferencia maiúsculas e minúsculas.</span></li>\n",
    "</ol>"
   ]
  },
  {
   "cell_type": "code",
   "execution_count": null,
   "metadata": {},
   "outputs": [],
   "source": [
    "# Crie um programa que tenha três variáveis a primeira com o valor 5.6, a segunda com o valor 76.9 e a terceira \n",
    "# com a soma das duas primeiras "
   ]
  },
  {
   "cell_type": "markdown",
   "metadata": {},
   "source": [
    "---\n",
    "## Instrução de Atribuição"
   ]
  },
  {
   "cell_type": "markdown",
   "metadata": {},
   "source": [
    " \n",
    "- Uma instrução de atribuição consiste numa expressão do lado direito do sinal e de uma variável do lado esquerdo que armazena o resultado na memória do computador.\n",
    "<p style=\"font-size:1.1em;color:#f00\">\n",
    "    x = 2 <span style=\"font-size:1.1em;color:#000\">=> Atribui à variável x o valor 2</span><br>\n",
    "x = 4 * x * (3 - x) <span style=\"font-size:1.1em;color:#000\">=> Atribui à variável x o valor 8. resultado de 4 * 2 * (3 - 2) = 4 * 2 * 1 = 8</span>\n",
    "</p>"
   ]
  },
  {
   "cell_type": "code",
   "execution_count": null,
   "metadata": {},
   "outputs": [],
   "source": [
    "# Crie um programa que tenha uma variável chamada _soma com o valor 50.\n",
    "# Nesse programa escreva duas instruções para alterar o valor da variável para 5 e depois para 2.5 "
   ]
  }
 ],
 "metadata": {
  "kernelspec": {
   "display_name": "Python 3 (ipykernel)",
   "language": "python",
   "name": "python3"
  },
  "language_info": {
   "codemirror_mode": {
    "name": "ipython",
    "version": 3
   },
   "file_extension": ".py",
   "mimetype": "text/x-python",
   "name": "python",
   "nbconvert_exporter": "python",
   "pygments_lexer": "ipython3",
   "version": "3.11.5"
  },
  "widgets": {
   "application/vnd.jupyter.widget-state+json": {
    "state": {},
    "version_major": 2,
    "version_minor": 0
   }
  }
 },
 "nbformat": 4,
 "nbformat_minor": 4
}
