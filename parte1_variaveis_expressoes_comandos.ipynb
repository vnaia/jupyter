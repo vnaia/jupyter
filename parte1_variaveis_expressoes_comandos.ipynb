{
 "cells": [
  {
   "cell_type": "markdown",
   "metadata": {
    "tags": []
   },
   "source": [
    "<center><h1 style=\"font-size:2em;color:#2467C0\">Parte 1 - Variáveis, Expressões e Comandos</h1></center>"
   ]
  },
  {
   "cell_type": "markdown",
   "metadata": {},
   "source": [
    "---\n",
    "## Variáveis"
   ]
  },
  {
   "cell_type": "markdown",
   "metadata": {},
   "source": [
    "- Uma variável é um local da memória do computador onde o programador vai poder armazenar dados e mais tarde poder apanhar esses dados através do nome dessa variável.\n",
    "- As variáveis recebem o dado a armazenar através do sinal de igual. A isso chama-se uma Instrução de Atribuição.\n",
    "<p style=\"font-size:1.1em;color:#f00\">\n",
    "    x = 12.2 <span style=\"font-size:1.1em;color:#000\">&#10140; Atribui à variável x o valor 12.2</span><br>\n",
    "y = 14 <span style=\"font-size:1.1em;color:#000\">&#10140; Atribui à variável y o valor 14</span>\n",
    "</p>\n",
    "- Os conteúdos das variáveis podem mudar ao longo do programa!\n",
    "<p style=\"font-size:1.1em;color:#f00\">\n",
    "x = 100 <span style=\"font-size:1.1em;color:#000\">&#10140; Atribui à variável x o valor de 100 removendo o 12.2</span><br>\n",
    "y = y + 5 <span style=\"font-size:1.1em;color:#000\">&#10140; Atribui à variável y o valor de 19. Resultado de 14 + 5</span><br>\n",
    "</p>\n",
    "- O programador pode escolher os nomes que quer dar às variáveis.\n",
    "- Os nomes das variáveis têm as seguintes regras:\n",
    "<ol>\n",
    "<li>Só podem começar por uma letra ou underscore _ <span style=\"font-size:1.1em;color:#f00\">{a,A,_a,_A,….}</span></li>\n",
    "    <li>Podem ter letras, números e underscores <span style=\"font-size:1.1em;color:#f00\">{a,b,c,..z,A,B,C,...Z,0,1,2,...,9,_}</span></li>\n",
    "    <li>Não podem ter qualquer outro símbolo <span style=\"font-size:1.1em;color:#f00\">{!,?,+,*,….}</span></li>\n",
    "    <li>São Case Sensitive, isto é, diferencia maiúsculas e minúsculas.</span></li>\n",
    "</ol>"
   ]
  },
  {
   "cell_type": "code",
   "execution_count": null,
   "metadata": {},
   "outputs": [],
   "source": [
    "# Crie um programa que tenha três variáveis a primeira com o valor 5.6, a segunda com o valor 76.9 e a terceira \n",
    "# com a soma das duas primeiras "
   ]
  },
  {
   "cell_type": "markdown",
   "metadata": {},
   "source": [
    "---\n",
    "## Instrução de Atribuição"
   ]
  },
  {
   "cell_type": "markdown",
   "metadata": {},
   "source": [
    " \n",
    "- Uma instrução de atribuição consiste numa expressão do lado direito do sinal de igual e de uma variável do lado esquerdo que armazena o resultado na memória do computador.\n",
    "<p style=\"font-size:1.1em;color:#f00\">\n",
    "    x = 2 <span style=\"font-size:1.1em;color:#000\">&#10140; Atribui à variável x o valor 2</span><br>\n",
    "x = 4 * x * (3 - x) <span style=\"font-size:1.1em;color:#000\">&#10140; Atribui à variável x o valor 8. resultado de 4 * 2 * (3 - 2) = 4 * 2 * 1 = 8</span>\n",
    "</p>"
   ]
  },
  {
   "cell_type": "code",
   "execution_count": null,
   "metadata": {},
   "outputs": [],
   "source": [
    "# Crie um programa que tenha uma variável chamada _soma com o valor 50.\n",
    "# Nesse programa escreva duas instruções para alterar o valor da variável para 5 e depois para 2.5 "
   ]
  },
  {
   "cell_type": "markdown",
   "metadata": {},
   "source": [
    "---\n",
    "## Expressões Numéricas"
   ]
  },
  {
   "cell_type": "markdown",
   "metadata": {},
   "source": [
    " \n",
    "- As expressões numéricas são aquelas em que se realizam as operações aritméticas entre números. São executadas a partir dos operadores indicados na tabela a seguir:\n",
    "\n",
    "<table border=1>\n",
    "    <tr><td>Operador</td><td>Operação</td><td>Prioridade</tr>\n",
    "    <tr><td>( )</td><td>Parenteses</td><td>1º</td></tr>\n",
    "    <tr><td>**</td><td>Exponenciação</td><td>2º</td></tr>\n",
    "    <tr><td>*</td><td>Multiplicação</td><td>3º</td></tr>\n",
    "    <tr><td>/</td><td>Divisão</td><td>3º</td></tr>\n",
    "    <tr><td>//</td><td>Divisão Inteira</td><td>3º</td></tr>\n",
    "    <tr><td>%</td><td>Resto da Divisão</td><td>3º</td></tr>\n",
    "    <tr><td>+</td><td>Adição</td><td>4º</td></tr>\n",
    "    <tr><td>-</td><td>Subtração</td><td>4º</td></tr>\n",
    "</table>\n",
    "\n",
    "- Como se resolve a expressão: \n",
    "<center><h5 style=\"font-size:1.1em;color:#f00\">x = 1 + 2 * 3 - 16 / 2 ** (1 + 3)</h5></center>\n",
    "<p>\n",
    "<center>\n",
    "x = 1 + 2 * 3 - 16 / 2 ** 4 &#10229; 1º Parenteses<br>\n",
    "x = 1 + 2 * 3 - 16 / 16 &#10229; 2º Exponenciação<br>\n",
    "x = 1 + 6 - 1 &#10229; 3º Multiplicação e Divisão<br>\n",
    "x = 6 &#10229; 4º Adição e Subtração\n",
    "</center>\n"
   ]
  },
  {
   "cell_type": "code",
   "execution_count": null,
   "metadata": {},
   "outputs": [],
   "source": [
    "# Resolva a  expressão numérica, supondo que os valores das variáveis são:\n",
    "# a=1; b=2; c=3; d=4\n",
    "# x = a + b + ((15 + c * c) / d - b ** (a + a))"
   ]
  },
  {
   "cell_type": "markdown",
   "metadata": {},
   "source": [
    "---\n",
    "## Tipos de Dados"
   ]
  },
  {
   "cell_type": "markdown",
   "metadata": {},
   "source": [
    " \n",
    "- Todas as variáveis no Python, têm um tipo de dados.\n",
    "- Os tipos de dados indicam o que está armazenado dentro da variável. A tabela a seguir indica os principais tipos de dados:\n",
    "\n",
    "<table border=1>\n",
    "    <tr><td>Tipo de Dado</td><td>Tipo</td><td>Definição</td>\n",
    "    <tr><td>Número Inteiro<td>int()</td><td>Qualquer número inteiro, negativo, nulo ou positivo. &#10229; -14, 0, 401233</td></tr>\n",
    "    <tr><td>Número Decimal</td><td>float()</td><td>Qualquer número real, negativo, nulo ou positivo. &#10229; -2.5 , 0.0, 98.6</td></tr>\n",
    "    <tr><td>Texto</td><td>str()</td><td>Qualquer conjunto de caracteres alfanuméricos. &#10229; 'abc', \"134\", 'Olá'</td></tr>\n",
    "    <tr><td>Lógico</td><td>bool()</td><td>Tipo especial de variável que armazena apenas os valores True ou False, onde True representa VERDADE e False FALSO. &#10229; True, False</td></tr>\n",
    "</table>\n",
    "\n",
    "- Para saber o tipo de alguma variável, utiliza-se a função <span style=\"font-size:1.1em;color:#f00\">type()</span>\n",
    "<p>\n",
    "<table border=1>\n",
    "    <tr><td>d = 14</td><td>e = 1.243</td><td>f = 'Bom dia'</td><td>g = True</td></tr>\n",
    "    <tr><td>print(type(d))</td><td>print(type(e))</td><td>print(type(f))</td><td>print(type(g))</td></tr>\n",
    "    <tr><td>class 'int'</td><td>class 'float'</td><td>class 'str'</td><td>class 'bool'</td></tr>\n",
    "</table>\n",
    "\n"
   ]
  },
  {
   "cell_type": "code",
   "execution_count": 1,
   "metadata": {},
   "outputs": [],
   "source": [
    "# Escreva um programa que tenha quatro variáveis de tipos diferentes e imprima o tipo de cada uma delas."
   ]
  },
  {
   "cell_type": "markdown",
   "metadata": {},
   "source": [
    "---\n",
    "## Conversão entre Tipos de Dados"
   ]
  },
  {
   "cell_type": "markdown",
   "metadata": {},
   "source": [
    " \n",
    "- O Python ao efetuar as operações analisa todos os tipos de dados.\n",
    "- Se os tipos forem diferentes, algumas operações são proibidas e dão erro no programa, por exemplo, não se pode adicionar 1 com \"a\".\n",
    "- Se numa expressão há uma operação entre um int e um float o int automáticamente converte-se num float.\n",
    "- A divisão entre números inteiros produz um resultado do tipo float.\n",
    "- Utilizam-se as funções int(), float(), string() e bool() para converter os tipos de dados entre si.\n",
    "\n",
    "\n",
    "\n"
   ]
  },
  {
   "cell_type": "code",
   "execution_count": null,
   "metadata": {},
   "outputs": [],
   "source": [
    "# Escreva um programa que com as quatro variáveis anteriores:\n",
    "# a) Faça a divisão da variável do tipo int() por ela própria e imprima o tipo do resultado;\n",
    "# b) Faça a adição da variável do tipo int() com a variável do tipo float() e imprima o tipo do resultado;\n",
    "# c) Faça a multiplicação da variável do tipo int() com a variável do tipo string();"
   ]
  }
 ],
 "metadata": {
  "kernelspec": {
   "display_name": "Python 3 (ipykernel)",
   "language": "python",
   "name": "python3"
  },
  "language_info": {
   "codemirror_mode": {
    "name": "ipython",
    "version": 3
   },
   "file_extension": ".py",
   "mimetype": "text/x-python",
   "name": "python",
   "nbconvert_exporter": "python",
   "pygments_lexer": "ipython3",
   "version": "3.11.5"
  },
  "widgets": {
   "application/vnd.jupyter.widget-state+json": {
    "state": {},
    "version_major": 2,
    "version_minor": 0
   }
  }
 },
 "nbformat": 4,
 "nbformat_minor": 4
}
