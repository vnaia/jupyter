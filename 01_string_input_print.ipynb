{
 "cells": [
  {
   "cell_type": "markdown",
   "metadata": {
    "tags": []
   },
   "source": [
    "<center><h1 style=\"font-size:2em;color:#2467C0\">Parte 1 - Constantes, Variáveis, Expressões e Comandos</h1></center>"
   ]
  },
  {
   "cell_type": "markdown",
   "metadata": {},
   "source": [
    "---\n",
    "## Constantes"
   ]
  },
  {
   "cell_type": "markdown",
   "metadata": {},
   "source": [
    "- São valores fixos como números (123, 12.45) , letras ('a', 'g') e strings ('olá', \"bem-vindo\") . São chamados de \"constantes\" porque os seus valores não se alteram."
   ]
  },
  {
   "cell_type": "code",
   "execution_count": null,
   "metadata": {},
   "outputs": [],
   "source": [
    "# Indique três constantes: uma numérica, outra letra e uma string."
   ]
  },
  {
   "cell_type": "markdown",
   "metadata": {},
   "source": [
    "---\n",
    "## Variáveis"
   ]
  },
  {
   "cell_type": "markdown",
   "metadata": {},
   "source": [
    "- Uma variável é um local da memória do computador onde o programador vai poder armazenar dados e mais tarde poder apanhar esses dados através do nome da variável.\n",
    "- O programador pode escolher os nomes que quer dar às variáveis. \n",
    "- Os conteúdos das variáveis podem mudar ao longo do programa!\n",
    "x = 12.2\n",
    "y = 14\n",
    "x = 100\n",
    "y = y + 5"
   ]
  },
  {
   "cell_type": "code",
   "execution_count": null,
   "metadata": {},
   "outputs": [],
   "source": [
    "# Crie um programa que tenha três variáveis a primeira com o valor 5.6, a segunda com o valor 76.9 e a terceira \n",
    "# com a soma das duas primeiras "
   ]
  },
  {
   "cell_type": "markdown",
   "metadata": {},
   "source": [
    "---\n",
    "## ASCII art: print()"
   ]
  },
  {
   "cell_type": "markdown",
   "metadata": {},
   "source": [
    " \n",
    "- Look at the following example and run the cells:"
   ]
  },
  {
   "cell_type": "code",
   "execution_count": null,
   "metadata": {},
   "outputs": [],
   "source": [
    "print (\" /\\_/\\   \")\n",
    "print (\" >^.^<   \")\n",
    "print (\"  / \\    \")\n",
    "print (\" (___)___\")"
   ]
  }
 ],
 "metadata": {
  "kernelspec": {
   "display_name": "Python 3 (ipykernel)",
   "language": "python",
   "name": "python3"
  },
  "language_info": {
   "codemirror_mode": {
    "name": "ipython",
    "version": 3
   },
   "file_extension": ".py",
   "mimetype": "text/x-python",
   "name": "python",
   "nbconvert_exporter": "python",
   "pygments_lexer": "ipython3",
   "version": "3.11.5"
  },
  "widgets": {
   "application/vnd.jupyter.widget-state+json": {
    "state": {},
    "version_major": 2,
    "version_minor": 0
   }
  }
 },
 "nbformat": 4,
 "nbformat_minor": 4
}
